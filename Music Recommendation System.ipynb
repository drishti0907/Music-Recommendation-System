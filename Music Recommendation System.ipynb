{
 "cells": [
  {
   "cell_type": "code",
   "execution_count": 1,
   "id": "8aea0601",
   "metadata": {},
   "outputs": [],
   "source": [
    "import spotipy\n",
    "from spotipy.oauth2 import SpotifyClientCredentials\n",
    "import spotipy.util as util"
   ]
  },
  {
   "cell_type": "code",
   "execution_count": 2,
   "id": "52f2e4f6",
   "metadata": {},
   "outputs": [],
   "source": [
    "cid = \"160a8e5f857f472b863ca7477d4541bf\"\n",
    "secret = \"8ce93f2e28144c0f96e0862d5616de66\"\n",
    "username = '31xbb2hrrqvvi7xdwab2j35wloba'\n",
    "redirect_uri = \"http://localhost:9000/callback\""
   ]
  },
  {
   "cell_type": "code",
   "execution_count": 3,
   "id": "09afc01a",
   "metadata": {},
   "outputs": [],
   "source": [
    "scope = 'user-library-read playlist-modify-public playlist-read-private'\n",
    "\n",
    "client_credentials_manager = SpotifyClientCredentials(client_id = cid, client_secret=secret)\n",
    "\n",
    "sp = spotipy.Spotify(client_credentials_manager= client_credentials_manager)\n",
    "\n",
    "token = util.prompt_for_user_token(username,scope,cid,secret,redirect_uri)\n",
    "\n",
    "if token:\n",
    "  sp = spotipy.Spotify(auth=token)\n",
    "  \n",
    "else:\n",
    "  print(\"Can't get token for\", username)"
   ]
  },
  {
   "cell_type": "code",
   "execution_count": 4,
   "id": "67b5f2b5",
   "metadata": {},
   "outputs": [],
   "source": [
    "import pandas as pd\n",
    "\n",
    "#https://open.spotify.com/playlist/5D1yBRHxCWL40UqPMzJCNH?si=ddbb780fbf1446fa\n",
    "sourcePlaylistID = '5D1yBRHxCWL40UqPMzJCNH'\n",
    "sourcePlaylist = sp.user_playlist(username,sourcePlaylistID);\n",
    "tracks = sourcePlaylist[\"tracks\"];\n",
    "songs = tracks[\"items\"];\n",
    "\n",
    "track_ids = []\n",
    "track_names = []\n",
    "\n",
    "\n",
    "for i in range(0, len(songs)):\n",
    "  if songs[i]['track']['id']!=None:\n",
    "    track_ids.append(songs[i]['track']['id'])\n",
    "    track_names.append(songs[i]['track']['name'])\n",
    "    \n",
    "features = []\n",
    "\n",
    "\n",
    "for i in range(0,len(track_ids)):\n",
    "  audio_features  = sp.audio_features(track_ids[i])\n",
    "  for track in audio_features:\n",
    "    features.append(track)\n",
    "    \n",
    "    \n",
    "playlist_df = pd.DataFrame(features,index = track_names)\n"
   ]
  },
  {
   "cell_type": "code",
   "execution_count": 5,
   "id": "1194b103",
   "metadata": {},
   "outputs": [],
   "source": [
    "playlist_df = playlist_df[[\"id\", \"acousticness\", \"danceability\", \"duration_ms\", \"energy\", \"instrumentalness\",  \"key\", \"liveness\", \"loudness\", \"mode\", \"speechiness\", \"tempo\", \"valence\"]]\n"
   ]
  },
  {
   "cell_type": "code",
   "execution_count": 6,
   "id": "8c38ecdc",
   "metadata": {},
   "outputs": [
    {
     "data": {
      "text/plain": [
       "(8, 13)"
      ]
     },
     "execution_count": 6,
     "metadata": {},
     "output_type": "execute_result"
    }
   ],
   "source": [
    "playlist_df.shape\n"
   ]
  },
  {
   "cell_type": "code",
   "execution_count": 7,
   "id": "fd103cf5",
   "metadata": {},
   "outputs": [],
   "source": [
    "playlist_df['ratings']=[10, 9, 9, 10, 8, 6, 8, 4]"
   ]
  },
  {
   "cell_type": "code",
   "execution_count": 8,
   "id": "b079d70a",
   "metadata": {},
   "outputs": [
    {
     "data": {
      "text/html": [
       "<div>\n",
       "<style scoped>\n",
       "    .dataframe tbody tr th:only-of-type {\n",
       "        vertical-align: middle;\n",
       "    }\n",
       "\n",
       "    .dataframe tbody tr th {\n",
       "        vertical-align: top;\n",
       "    }\n",
       "\n",
       "    .dataframe thead th {\n",
       "        text-align: right;\n",
       "    }\n",
       "</style>\n",
       "<table border=\"1\" class=\"dataframe\">\n",
       "  <thead>\n",
       "    <tr style=\"text-align: right;\">\n",
       "      <th></th>\n",
       "      <th>id</th>\n",
       "      <th>acousticness</th>\n",
       "      <th>danceability</th>\n",
       "      <th>duration_ms</th>\n",
       "      <th>energy</th>\n",
       "      <th>instrumentalness</th>\n",
       "      <th>key</th>\n",
       "      <th>liveness</th>\n",
       "      <th>loudness</th>\n",
       "      <th>mode</th>\n",
       "      <th>speechiness</th>\n",
       "      <th>tempo</th>\n",
       "      <th>valence</th>\n",
       "      <th>ratings</th>\n",
       "    </tr>\n",
       "  </thead>\n",
       "  <tbody>\n",
       "    <tr>\n",
       "      <th>Through It All</th>\n",
       "      <td>5GcKV6j1JgaSMKG5Jl3NRN</td>\n",
       "      <td>0.02420</td>\n",
       "      <td>0.195</td>\n",
       "      <td>317267</td>\n",
       "      <td>0.680</td>\n",
       "      <td>0.000002</td>\n",
       "      <td>7</td>\n",
       "      <td>0.3200</td>\n",
       "      <td>-6.497</td>\n",
       "      <td>1</td>\n",
       "      <td>0.0376</td>\n",
       "      <td>152.290</td>\n",
       "      <td>0.2210</td>\n",
       "      <td>10</td>\n",
       "    </tr>\n",
       "    <tr>\n",
       "      <th>Christ Is Enough</th>\n",
       "      <td>6ylhMPeBV9kF5dYvBAO2tQ</td>\n",
       "      <td>0.00946</td>\n",
       "      <td>0.366</td>\n",
       "      <td>320987</td>\n",
       "      <td>0.812</td>\n",
       "      <td>0.000000</td>\n",
       "      <td>11</td>\n",
       "      <td>0.2920</td>\n",
       "      <td>-4.609</td>\n",
       "      <td>1</td>\n",
       "      <td>0.0340</td>\n",
       "      <td>79.962</td>\n",
       "      <td>0.2410</td>\n",
       "      <td>9</td>\n",
       "    </tr>\n",
       "    <tr>\n",
       "      <th>Who You Say I Am</th>\n",
       "      <td>1QoQC9g6R0K1SrPQifxaWB</td>\n",
       "      <td>0.00410</td>\n",
       "      <td>0.377</td>\n",
       "      <td>198705</td>\n",
       "      <td>0.644</td>\n",
       "      <td>0.000000</td>\n",
       "      <td>6</td>\n",
       "      <td>0.0890</td>\n",
       "      <td>-8.139</td>\n",
       "      <td>1</td>\n",
       "      <td>0.0404</td>\n",
       "      <td>171.908</td>\n",
       "      <td>0.2990</td>\n",
       "      <td>9</td>\n",
       "    </tr>\n",
       "    <tr>\n",
       "      <th>What A Beautiful Name</th>\n",
       "      <td>5XCtjnFMKtCT7ycDwV3Kdh</td>\n",
       "      <td>0.21200</td>\n",
       "      <td>0.417</td>\n",
       "      <td>240200</td>\n",
       "      <td>0.499</td>\n",
       "      <td>0.000000</td>\n",
       "      <td>2</td>\n",
       "      <td>0.1120</td>\n",
       "      <td>-6.364</td>\n",
       "      <td>1</td>\n",
       "      <td>0.0296</td>\n",
       "      <td>135.923</td>\n",
       "      <td>0.1440</td>\n",
       "      <td>10</td>\n",
       "    </tr>\n",
       "    <tr>\n",
       "      <th>Holy Spirit - Live</th>\n",
       "      <td>5Xjcst6Rle74VteHx0zczO</td>\n",
       "      <td>0.13600</td>\n",
       "      <td>0.363</td>\n",
       "      <td>489453</td>\n",
       "      <td>0.533</td>\n",
       "      <td>0.000000</td>\n",
       "      <td>2</td>\n",
       "      <td>0.3580</td>\n",
       "      <td>-8.319</td>\n",
       "      <td>1</td>\n",
       "      <td>0.0314</td>\n",
       "      <td>144.005</td>\n",
       "      <td>0.0693</td>\n",
       "      <td>8</td>\n",
       "    </tr>\n",
       "    <tr>\n",
       "      <th>How Great Is Our God</th>\n",
       "      <td>0jOSpB2zK2O0SNxj8ZT5lp</td>\n",
       "      <td>0.10700</td>\n",
       "      <td>0.318</td>\n",
       "      <td>305427</td>\n",
       "      <td>0.573</td>\n",
       "      <td>0.000000</td>\n",
       "      <td>1</td>\n",
       "      <td>0.0854</td>\n",
       "      <td>-5.653</td>\n",
       "      <td>1</td>\n",
       "      <td>0.0324</td>\n",
       "      <td>156.054</td>\n",
       "      <td>0.0765</td>\n",
       "      <td>6</td>\n",
       "    </tr>\n",
       "    <tr>\n",
       "      <th>Surrender</th>\n",
       "      <td>4CDA2cAPCUI1TYNTDgsXkH</td>\n",
       "      <td>0.03840</td>\n",
       "      <td>0.462</td>\n",
       "      <td>340565</td>\n",
       "      <td>0.479</td>\n",
       "      <td>0.000009</td>\n",
       "      <td>11</td>\n",
       "      <td>0.1130</td>\n",
       "      <td>-8.726</td>\n",
       "      <td>1</td>\n",
       "      <td>0.0274</td>\n",
       "      <td>137.967</td>\n",
       "      <td>0.2620</td>\n",
       "      <td>8</td>\n",
       "    </tr>\n",
       "    <tr>\n",
       "      <th>Worthy is the Lamb</th>\n",
       "      <td>4vQW0xTLnsTYT1jLT2cH5P</td>\n",
       "      <td>0.24200</td>\n",
       "      <td>0.433</td>\n",
       "      <td>362707</td>\n",
       "      <td>0.600</td>\n",
       "      <td>0.000087</td>\n",
       "      <td>9</td>\n",
       "      <td>0.1030</td>\n",
       "      <td>-6.339</td>\n",
       "      <td>1</td>\n",
       "      <td>0.0293</td>\n",
       "      <td>143.818</td>\n",
       "      <td>0.1700</td>\n",
       "      <td>4</td>\n",
       "    </tr>\n",
       "  </tbody>\n",
       "</table>\n",
       "</div>"
      ],
      "text/plain": [
       "                                           id  acousticness  danceability  \\\n",
       "Through It All         5GcKV6j1JgaSMKG5Jl3NRN       0.02420         0.195   \n",
       "Christ Is Enough       6ylhMPeBV9kF5dYvBAO2tQ       0.00946         0.366   \n",
       "Who You Say I Am       1QoQC9g6R0K1SrPQifxaWB       0.00410         0.377   \n",
       "What A Beautiful Name  5XCtjnFMKtCT7ycDwV3Kdh       0.21200         0.417   \n",
       "Holy Spirit - Live     5Xjcst6Rle74VteHx0zczO       0.13600         0.363   \n",
       "How Great Is Our God   0jOSpB2zK2O0SNxj8ZT5lp       0.10700         0.318   \n",
       "Surrender              4CDA2cAPCUI1TYNTDgsXkH       0.03840         0.462   \n",
       "Worthy is the Lamb     4vQW0xTLnsTYT1jLT2cH5P       0.24200         0.433   \n",
       "\n",
       "                       duration_ms  energy  instrumentalness  key  liveness  \\\n",
       "Through It All              317267   0.680          0.000002    7    0.3200   \n",
       "Christ Is Enough            320987   0.812          0.000000   11    0.2920   \n",
       "Who You Say I Am            198705   0.644          0.000000    6    0.0890   \n",
       "What A Beautiful Name       240200   0.499          0.000000    2    0.1120   \n",
       "Holy Spirit - Live          489453   0.533          0.000000    2    0.3580   \n",
       "How Great Is Our God        305427   0.573          0.000000    1    0.0854   \n",
       "Surrender                   340565   0.479          0.000009   11    0.1130   \n",
       "Worthy is the Lamb          362707   0.600          0.000087    9    0.1030   \n",
       "\n",
       "                       loudness  mode  speechiness    tempo  valence  ratings  \n",
       "Through It All           -6.497     1       0.0376  152.290   0.2210       10  \n",
       "Christ Is Enough         -4.609     1       0.0340   79.962   0.2410        9  \n",
       "Who You Say I Am         -8.139     1       0.0404  171.908   0.2990        9  \n",
       "What A Beautiful Name    -6.364     1       0.0296  135.923   0.1440       10  \n",
       "Holy Spirit - Live       -8.319     1       0.0314  144.005   0.0693        8  \n",
       "How Great Is Our God     -5.653     1       0.0324  156.054   0.0765        6  \n",
       "Surrender                -8.726     1       0.0274  137.967   0.2620        8  \n",
       "Worthy is the Lamb       -6.339     1       0.0293  143.818   0.1700        4  "
      ]
     },
     "execution_count": 8,
     "metadata": {},
     "output_type": "execute_result"
    }
   ],
   "source": [
    "playlist_df "
   ]
  },
  {
   "cell_type": "code",
   "execution_count": 9,
   "id": "a43921e3",
   "metadata": {},
   "outputs": [],
   "source": [
    "X_train = playlist_df.drop(['id', 'ratings'], axis=1)\n",
    "y_train = playlist_df['ratings']"
   ]
  },
  {
   "cell_type": "code",
   "execution_count": 10,
   "id": "42f92390",
   "metadata": {},
   "outputs": [
    {
     "data": {
      "image/png": "[encoded data removed]",
      "text/plain": [
       "<Figure size 720x504 with 1 Axes>"
      ]
     },
     "metadata": {
      "image/png": {
       "height": 429,
       "width": 618
      },
      "needs_background": "light"
     },
     "output_type": "display_data"
    }
   ],
   "source": [
    "import numpy as np\n",
    "from sklearn import decomposition\n",
    "from sklearn.preprocessing import StandardScaler\n",
    "import matplotlib.pyplot as plt\n",
    "import seaborn as sns; sns.set(style='white')\n",
    "%matplotlib inline\n",
    "%config InlineBackend.figure_format = 'retina'\n",
    "\n",
    "X_scaled = StandardScaler().fit_transform(X_train)\n",
    "\n",
    "pca = decomposition.PCA().fit(X_scaled)\n",
    "\n",
    "\n",
    "plt.figure(figsize=(10,7))\n",
    "plt.plot(np.cumsum(pca.explained_variance_ratio_),color='k',lw=2)\n",
    "plt.xlabel('Number of components')\n",
    "plt.ylabel('Total explained variance')\n",
    "plt.xlim(0,12)\n",
    "plt.yticks(np.arange(0,1.1,0.1))\n",
    "plt.axvline(8,c='b')\n",
    "plt.axhline(0.95,c='r')\n",
    "plt.show();"
   ]
  },
  {
   "cell_type": "code",
   "execution_count": 11,
   "id": "7b1ceea7",
   "metadata": {},
   "outputs": [],
   "source": [
    "# Fit your dataset to the optimal pca(principal component analysis)\n",
    "pca = decomposition.PCA(n_components=8)\n",
    "X_pca = pca.fit_transform(X_scaled)"
   ]
  },
  {
   "cell_type": "code",
   "execution_count": 12,
   "id": "9f611631",
   "metadata": {},
   "outputs": [
    {
     "data": {
      "text/plain": [
       "(8, 58)"
      ]
     },
     "execution_count": 12,
     "metadata": {},
     "output_type": "execute_result"
    }
   ],
   "source": [
    "from sklearn.feature_extraction.text import TfidfVectorizer\n",
    "v = TfidfVectorizer(sublinear_tf = True, ngram_range=(1,6),\n",
    "                   max_features=10000)\n",
    "X_names_sparse=v.fit_transform(track_names)\n",
    "X_names_sparse.shape"
   ]
  },
  {
   "cell_type": "code",
   "execution_count": 13,
   "id": "3d9ea88f",
   "metadata": {},
   "outputs": [],
   "source": [
    "from scipy.sparse import csr_matrix, hstack\n",
    "\n",
    "X_train_last = csr_matrix(hstack([X_pca, X_names_sparse]))"
   ]
  },
  {
   "cell_type": "code",
   "execution_count": 14,
   "id": "310a916f",
   "metadata": {},
   "outputs": [],
   "source": [
    "from sklearn.model_selection import StratifiedKFold, GridSearchCV\n",
    "\n",
    "skf = StratifiedKFold(n_splits=2,shuffle=True,random_state=42)"
   ]
  },
  {
   "cell_type": "code",
   "execution_count": 15,
   "id": "a73c5284",
   "metadata": {},
   "outputs": [
    {
     "name": "stdout",
     "output_type": "stream",
     "text": [
      "Fitting 2 folds for each of 9 candidates, totalling 18 fits\n"
     ]
    },
    {
     "name": "stderr",
     "output_type": "stream",
     "text": [
      "C:\\Users\\hp\\anaconda3\\lib\\site-packages\\sklearn\\model_selection\\_split.py:676: UserWarning: The least populated class in y has only 1 members, which is less than n_splits=2.\n",
      "  warnings.warn(\n",
      "C:\\Users\\hp\\anaconda3\\lib\\site-packages\\sklearn\\model_selection\\_search.py:969: UserWarning: One or more of the test scores are non-finite: [0.    0.125 0.    0.      nan   nan   nan   nan   nan]\n",
      "  warnings.warn(\n"
     ]
    },
    {
     "data": {
      "text/plain": [
       "({'n_neighbors': 2}, 0.125)"
      ]
     },
     "execution_count": 15,
     "metadata": {},
     "output_type": "execute_result"
    }
   ],
   "source": [
    "from sklearn.neighbors import KNeighborsClassifier\n",
    "\n",
    "knn_params = {'n_neighbors':range(1,10)}\n",
    "knn = KNeighborsClassifier(n_jobs=-1)\n",
    "\n",
    "knn_grid= GridSearchCV(knn,knn_params,cv=skf,n_jobs =-1,verbose=True)\n",
    "knn_grid.fit(X_train_last,y_train)\n",
    "knn_grid.best_params_, knn_grid.best_score_"
   ]
  },
  {
   "cell_type": "code",
   "execution_count": 16,
   "id": "9a33e32d",
   "metadata": {},
   "outputs": [
    {
     "name": "stdout",
     "output_type": "stream",
     "text": [
      "Fitting 2 folds for each of 48 candidates, totalling 96 fits\n"
     ]
    },
    {
     "name": "stderr",
     "output_type": "stream",
     "text": [
      "C:\\Users\\hp\\anaconda3\\lib\\site-packages\\sklearn\\model_selection\\_split.py:676: UserWarning: The least populated class in y has only 1 members, which is less than n_splits=2.\n",
      "  warnings.warn(\n",
      "C:\\Users\\hp\\anaconda3\\lib\\site-packages\\sklearn\\model_selection\\_validation.py:372: FitFailedWarning: \n",
      "96 fits failed out of a total of 96.\n",
      "The score on these train-test partitions for these parameters will be set to nan.\n",
      "If these failures are not expected, you can try to debug them by setting error_score='raise'.\n",
      "\n",
      "Below are more details about the failures:\n",
      "--------------------------------------------------------------------------------\n",
      "96 fits failed with the following error:\n",
      "Traceback (most recent call last):\n",
      "  File \"C:\\Users\\hp\\anaconda3\\lib\\site-packages\\sklearn\\model_selection\\_validation.py\", line 680, in _fit_and_score\n",
      "    estimator.fit(X_train, y_train, **fit_params)\n",
      "  File \"C:\\Users\\hp\\anaconda3\\lib\\site-packages\\sklearn\\ensemble\\_forest.py\", line 486, in fit\n",
      "    self._set_oob_score_and_attributes(X, y)\n",
      "  File \"C:\\Users\\hp\\anaconda3\\lib\\site-packages\\sklearn\\ensemble\\_forest.py\", line 725, in _set_oob_score_and_attributes\n",
      "    self.oob_decision_function_ = super()._compute_oob_predictions(X, y)\n",
      "  File \"C:\\Users\\hp\\anaconda3\\lib\\site-packages\\sklearn\\ensemble\\_forest.py\", line 554, in _compute_oob_predictions\n",
      "    y_pred = self._get_oob_predictions(estimator, X[unsampled_indices, :])\n",
      "  File \"C:\\Users\\hp\\anaconda3\\lib\\site-packages\\sklearn\\ensemble\\_forest.py\", line 703, in _get_oob_predictions\n",
      "    y_pred = tree.predict_proba(X, check_input=False)\n",
      "  File \"C:\\Users\\hp\\anaconda3\\lib\\site-packages\\sklearn\\tree\\_classes.py\", line 972, in predict_proba\n",
      "    proba = self.tree_.predict(X)\n",
      "  File \"sklearn\\tree\\_tree.pyx\", line 753, in sklearn.tree._tree.Tree.predict\n",
      "  File \"sklearn\\tree\\_tree.pyx\", line 755, in sklearn.tree._tree.Tree.predict\n",
      "  File \"sklearn\\tree\\_tree.pyx\", line 764, in sklearn.tree._tree.Tree.apply\n",
      "  File \"sklearn\\tree\\_tree.pyx\", line 815, in sklearn.tree._tree.Tree._apply_sparse_csr\n",
      "ValueError: X.dtype should be np.float32, got float64\n",
      "\n",
      "  warnings.warn(some_fits_failed_message, FitFailedWarning)\n",
      "C:\\Users\\hp\\anaconda3\\lib\\site-packages\\sklearn\\model_selection\\_search.py:969: UserWarning: One or more of the test scores are non-finite: [nan nan nan nan nan nan nan nan nan nan nan nan nan nan nan nan nan nan\n",
      " nan nan nan nan nan nan nan nan nan nan nan nan nan nan nan nan nan nan\n",
      " nan nan nan nan nan nan nan nan nan nan nan nan]\n",
      "  warnings.warn(\n"
     ]
    },
    {
     "data": {
      "text/plain": [
       "(RandomForestClassifier(max_depth=3, max_features=4, n_jobs=-1, oob_score=True,\n",
       "                        random_state=42),\n",
       " nan)"
      ]
     },
     "execution_count": 16,
     "metadata": {},
     "output_type": "execute_result"
    }
   ],
   "source": [
    "from sklearn.ensemble import RandomForestClassifier\n",
    "parameters = {'max_features':[4,7,8,10],'min_samples_leaf':[1,3,5,8],'max_depth':[3,5,8]}\n",
    "rfc = RandomForestClassifier(n_estimators=100,random_state=42,n_jobs=-1,oob_score=True)\n",
    "forest_grid = GridSearchCV(rfc,parameters,n_jobs=-1,cv=skf,verbose=1)\n",
    "forest_grid.fit(X_train_last,y_train)\n",
    "forest_grid.best_estimator_ , forest_grid.best_score_"
   ]
  },
  {
   "cell_type": "code",
   "execution_count": 17,
   "id": "32705596",
   "metadata": {},
   "outputs": [
    {
     "name": "stdout",
     "output_type": "stream",
     "text": [
      "Fitting 2 folds for each of 150 candidates, totalling 300 fits\n"
     ]
    },
    {
     "name": "stderr",
     "output_type": "stream",
     "text": [
      "C:\\Users\\hp\\anaconda3\\lib\\site-packages\\sklearn\\model_selection\\_split.py:676: UserWarning: The least populated class in y has only 1 members, which is less than n_splits=2.\n",
      "  warnings.warn(\n"
     ]
    },
    {
     "data": {
      "text/plain": [
       "(DecisionTreeClassifier(max_depth=5, max_features=7), 0.5)"
      ]
     },
     "execution_count": 17,
     "metadata": {},
     "output_type": "execute_result"
    }
   ],
   "source": [
    "from sklearn.tree import DecisionTreeClassifier\n",
    "\n",
    "tree= DecisionTreeClassifier()\n",
    "\n",
    "tree_params = {'max_depth':range(1,11),'max_features':range(4,19)}\n",
    "tree_grid = GridSearchCV(tree,tree_params,cv=skf,n_jobs=-1,verbose=True)\n",
    "tree_grid.fit(X_train_last,y_train)\n",
    "tree_grid.best_estimator_ , tree_grid.best_score_\n"
   ]
  },
  {
   "cell_type": "code",
   "execution_count": 18,
   "id": "9e704657",
   "metadata": {},
   "outputs": [],
   "source": [
    "rec_tracks=[]\n",
    "\n",
    "for i in playlist_df['id'].values.tolist():\n",
    "  rec_tracks += sp.recommendations(seed_tracks=[i],limit = int(len(playlist_df)/2))['tracks'];\n",
    "  \n",
    "\n",
    "rec_track_ids=[]\n",
    "rec_track_names = []\n",
    "for i in rec_tracks:\n",
    "  rec_track_ids.append(i['id'])\n",
    "  rec_track_names.append(i['name'])"
   ]
  },
  {
   "cell_type": "code",
   "execution_count": 19,
   "id": "dc49408f",
   "metadata": {},
   "outputs": [],
   "source": [
    "rec_features=[]\n",
    "\n",
    "for i in range(0,len(rec_track_ids)):\n",
    "  rec_audio_features = sp.audio_features(rec_track_ids[i])\n",
    "  for track in rec_audio_features:\n",
    "    rec_features.append(track)\n",
    "    \n",
    "    \n",
    "rec_playlist_df= pd.DataFrame(rec_features,index = rec_track_ids)"
   ]
  },
  {
   "cell_type": "code",
   "execution_count": 20,
   "id": "576eec30",
   "metadata": {},
   "outputs": [],
   "source": [
    "rec_playlist_df = rec_playlist_df[[\"acousticness\", \"danceability\", \"duration_ms\", \"energy\", \"instrumentalness\",  \"key\", \"liveness\", \"loudness\", \"mode\", \"speechiness\", \"tempo\", \"valence\"]]\n"
   ]
  },
  {
   "cell_type": "code",
   "execution_count": 21,
   "id": "3398e2a5",
   "metadata": {},
   "outputs": [],
   "source": [
    "tree_grid.best_estimator_.fit(X_train_last,y_train)\n",
    "rec_playlist_df_scaled = StandardScaler().fit_transform(rec_playlist_df)\n",
    "X_test_pca  = pca.transform(rec_playlist_df_scaled)\n",
    "X_test_names = v.transform(rec_track_names)\n",
    "X_test_last = csr_matrix(hstack([X_test_pca,X_test_names]))\n",
    "y_pred_class = tree_grid.best_estimator_.predict(X_test_last)"
   ]
  },
  {
   "cell_type": "code",
   "execution_count": 22,
   "id": "b9d4cb89",
   "metadata": {},
   "outputs": [],
   "source": [
    "rec_playlist_df['ratings']=y_pred_class\n",
    "rec_playlist_df = rec_playlist_df.sort_values('ratings',ascending=False)\n",
    "rec_playlist_df = rec_playlist_df.reset_index()\n",
    "recs_to_add = rec_playlist_df[rec_playlist_df['ratings']>=9]['index'].values.tolist()"
   ]
  },
  {
   "cell_type": "code",
   "execution_count": 23,
   "id": "7a0ee301",
   "metadata": {},
   "outputs": [],
   "source": [
    "#making of suggested playlist\n",
    "username = '31xbb2hrrqvvi7xdwab2j35wloba'\n",
    "playlist_recs =sp.user_playlist_create(username,name=\"Playlist Made From Python - {}\".format(sourcePlaylist['name']))"
   ]
  },
  {
   "cell_type": "code",
   "execution_count": 24,
   "id": "91769f66",
   "metadata": {
    "scrolled": true
   },
   "outputs": [
    {
     "data": {
      "text/plain": [
       "{'collaborative': False,\n",
       " 'description': '',\n",
       " 'external_urls': {'spotify': 'https://open.spotify.com/playlist/6uTIDOHfnldc3wD4rUv6kw'},\n",
       " 'followers': {'href': None, 'total': 0},\n",
       " 'href': 'https://api.spotify.com/v1/playlists/6uTIDOHfnldc3wD4rUv6kw',\n",
       " 'id': '6uTIDOHfnldc3wD4rUv6kw',\n",
       " 'images': [],\n",
       " 'name': 'Playlist Made From Python - Dv',\n",
       " 'owner': {'display_name': 'Drishti Vashisth',\n",
       "  'external_urls': {'spotify': 'https://open.spotify.com/user/31xbb2hrrqvvi7xdwab2j35wloba'},\n",
       "  'href': 'https://api.spotify.com/v1/users/31xbb2hrrqvvi7xdwab2j35wloba',\n",
       "  'id': '31xbb2hrrqvvi7xdwab2j35wloba',\n",
       "  'type': 'user',\n",
       "  'uri': 'spotify:user:31xbb2hrrqvvi7xdwab2j35wloba'},\n",
       " 'primary_color': None,\n",
       " 'public': True,\n",
       " 'snapshot_id': 'MSw3OTc1MGM1NTlmMDk5YjJiZjQxZDA3ODBmOTY0MDY5MjAxMDJmNDI1',\n",
       " 'tracks': {'href': 'https://api.spotify.com/v1/playlists/6uTIDOHfnldc3wD4rUv6kw/tracks',\n",
       "  'items': [],\n",
       "  'limit': 100,\n",
       "  'next': None,\n",
       "  'offset': 0,\n",
       "  'previous': None,\n",
       "  'total': 0},\n",
       " 'type': 'playlist',\n",
       " 'uri': 'spotify:playlist:6uTIDOHfnldc3wD4rUv6kw'}"
      ]
     },
     "execution_count": 24,
     "metadata": {},
     "output_type": "execute_result"
    }
   ],
   "source": [
    "playlist_recs"
   ]
  },
  {
   "cell_type": "code",
   "execution_count": 25,
   "id": "e5f5b8de",
   "metadata": {},
   "outputs": [
    {
     "data": {
      "text/plain": [
       "14"
      ]
     },
     "execution_count": 25,
     "metadata": {},
     "output_type": "execute_result"
    }
   ],
   "source": [
    "len(recs_to_add)"
   ]
  },
  {
   "cell_type": "code",
   "execution_count": 26,
   "id": "b50f4c1e",
   "metadata": {},
   "outputs": [],
   "source": [
    "sp.user_playlist_add_tracks(username,playlist_recs['id'],recs_to_add);\n"
   ]
  },
  {
   "cell_type": "code",
   "execution_count": null,
   "id": "c4f050cb",
   "metadata": {},
   "outputs": [],
   "source": []
  }
 ],
 "metadata": {
  "kernelspec": {
   "display_name": "Python 3 (ipykernel)",
   "language": "python",
   "name": "python3"
  },
  "language_info": {
   "codemirror_mode": {
    "name": "ipython",
    "version": 3
   },
   "file_extension": ".py",
   "mimetype": "text/x-python",
   "name": "python",
   "nbconvert_exporter": "python",
   "pygments_lexer": "ipython3",
   "version": "3.9.12"
  }
 },
 "nbformat": 4,
 "nbformat_minor": 5
}
